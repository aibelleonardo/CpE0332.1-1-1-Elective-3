{
  "nbformat": 4,
  "nbformat_minor": 0,
  "metadata": {
    "colab": {
      "provenance": [],
      "authorship_tag": "ABX9TyOz6smD7tQWB3QCvJE/9hY0",
      "include_colab_link": true
    },
    "kernelspec": {
      "name": "python3",
      "display_name": "Python 3"
    },
    "language_info": {
      "name": "python"
    }
  },
  "cells": [
    {
      "cell_type": "markdown",
      "metadata": {
        "id": "view-in-github",
        "colab_type": "text"
      },
      "source": [
        "<a href=\"https://colab.research.google.com/github/aibelleonardo/CpE0332.1-1-1-Elective-3/blob/main/Conditional_Statement.ipynb\" target=\"_parent\"><img src=\"https://colab.research.google.com/assets/colab-badge.svg\" alt=\"Open In Colab\"/></a>"
      ]
    },
    {
      "cell_type": "code",
      "execution_count": null,
      "metadata": {
        "id": "0RwZMsFPC2Tj"
      },
      "outputs": [],
      "source": [
        "If Statement"
      ]
    },
    {
      "cell_type": "code",
      "source": [
        "a = 12\n",
        "b = 100\n",
        "\n",
        "if a < b:\n",
        "  print(\"a is less than b\")"
      ],
      "metadata": {
        "colab": {
          "base_uri": "https://localhost:8080/"
        },
        "id": "X8-r8EhsC6iM",
        "outputId": "33649f7e-3319-4366-a4ce-3a55fae3b630"
      },
      "execution_count": 1,
      "outputs": [
        {
          "output_type": "stream",
          "name": "stdout",
          "text": [
            "a is less than b\n"
          ]
        }
      ]
    },
    {
      "cell_type": "markdown",
      "source": [
        "Elif Statement"
      ],
      "metadata": {
        "id": "6yQnJyHVDGYP"
      }
    },
    {
      "cell_type": "code",
      "source": [
        "age = int(input())\n",
        "\n",
        "if age >= 18:\n",
        "  print(\"You are qualified to get a license\")\n",
        "\n",
        "elif age <= 18:\n",
        "  print(\"You are not qualified to get a license\")"
      ],
      "metadata": {
        "colab": {
          "base_uri": "https://localhost:8080/"
        },
        "id": "SpDPqh7cDIbl",
        "outputId": "9f29f4fd-dc40-4f3b-885b-f96e708bc621"
      },
      "execution_count": 4,
      "outputs": [
        {
          "output_type": "stream",
          "name": "stdout",
          "text": [
            "18\n",
            "You are qualified to get a license\n"
          ]
        }
      ]
    },
    {
      "cell_type": "markdown",
      "source": [
        "Else Statement"
      ],
      "metadata": {
        "id": "LRuD0ezYExab"
      }
    },
    {
      "cell_type": "code",
      "source": [
        "print(\"Enter an integer: \")\n",
        "\n",
        "x = int(input())\n",
        "\n",
        "if x > 0:\n",
        "  print(\"Positive number\")\n",
        "elif x < 0:\n",
        "  print(\"Negative number\")\n",
        "else:\n",
        "  print(\"Zero\")"
      ],
      "metadata": {
        "colab": {
          "base_uri": "https://localhost:8080/"
        },
        "id": "ErtCt7EVEzLQ",
        "outputId": "186b29ee-3bda-4b0d-ffb7-585d2952090c"
      },
      "execution_count": 5,
      "outputs": [
        {
          "output_type": "stream",
          "name": "stdout",
          "text": [
            "Enter an integer: \n",
            "0\n",
            "Zero\n"
          ]
        }
      ]
    },
    {
      "cell_type": "markdown",
      "source": [
        "Short Hand If Statement"
      ],
      "metadata": {
        "id": "sEv-D11vFVDo"
      }
    },
    {
      "cell_type": "code",
      "source": [
        "if a < b: print(\"a is less than b\")"
      ],
      "metadata": {
        "colab": {
          "base_uri": "https://localhost:8080/"
        },
        "id": "TgaqfaPaFg3b",
        "outputId": "2ad4070a-5dc4-4bfe-a774-36107e5eb70a"
      },
      "execution_count": 6,
      "outputs": [
        {
          "output_type": "stream",
          "name": "stdout",
          "text": [
            "a is less than b\n"
          ]
        }
      ]
    },
    {
      "cell_type": "markdown",
      "source": [
        "Short Hand If..Else Statement"
      ],
      "metadata": {
        "id": "lOyMS5WoF-76"
      }
    },
    {
      "cell_type": "code",
      "source": [
        "print(\"a is greater than b\") if a > b else print(\"b is greater than a\")"
      ],
      "metadata": {
        "colab": {
          "base_uri": "https://localhost:8080/"
        },
        "id": "LXIF37cOGPA2",
        "outputId": "bef0b94d-e248-4a50-e1ad-b8c67b6a53a8"
      },
      "execution_count": 7,
      "outputs": [
        {
          "output_type": "stream",
          "name": "stdout",
          "text": [
            "b is greater than a\n"
          ]
        }
      ]
    },
    {
      "cell_type": "markdown",
      "source": [
        "And Statement"
      ],
      "metadata": {
        "id": "0X2cJPvcGr_P"
      }
    },
    {
      "cell_type": "code",
      "source": [
        "c = 500\n",
        "\n",
        "if a < b and c > a:\n",
        "  print(\"both statements are true\")"
      ],
      "metadata": {
        "colab": {
          "base_uri": "https://localhost:8080/"
        },
        "id": "q8GjoqhkGuNs",
        "outputId": "507f44ae-2e66-4e7a-a99f-876b922ff601"
      },
      "execution_count": 9,
      "outputs": [
        {
          "output_type": "stream",
          "name": "stdout",
          "text": [
            "both statements are true\n"
          ]
        }
      ]
    },
    {
      "cell_type": "markdown",
      "source": [
        "Or Statement"
      ],
      "metadata": {
        "id": "0H79QOMkHHJd"
      }
    },
    {
      "cell_type": "code",
      "source": [
        "if a < b or c > a:\n",
        "  print(\"both statements are true\")"
      ],
      "metadata": {
        "colab": {
          "base_uri": "https://localhost:8080/"
        },
        "id": "sf17oITyHIic",
        "outputId": "4d99983b-e560-427a-bdbb-2f4031ac7e66"
      },
      "execution_count": 10,
      "outputs": [
        {
          "output_type": "stream",
          "name": "stdout",
          "text": [
            "both statements are true\n"
          ]
        }
      ]
    },
    {
      "cell_type": "markdown",
      "source": [
        "Nested If Else Statement"
      ],
      "metadata": {
        "id": "UH54oSj0HTxz"
      }
    },
    {
      "cell_type": "code",
      "source": [
        "print(\"Enter an integer: \")\n",
        "\n",
        "x = 41\n",
        "\n",
        "if x > 10:\n",
        "  print(\"Above ten\")\n",
        "\n",
        "  if x > 20:\n",
        "    print(\"and also above 20\")\n",
        "    if x > 30:\n",
        "      print(\"and also above 30\")\n",
        "      if x > 40:\n",
        "        print(\"and also above 40\")\n",
        "        if x > 50:\n",
        "          print(\"and also above 50\")\n",
        "        else:\n",
        "          print(\"but not above 50!\")\n",
        "      else:\n",
        "        print(\"but not above 40!\")\n",
        "    else:\n",
        "      print(\"but not above 30!\")\n",
        "  else:\n",
        "    print(\"but not above 20!\")"
      ],
      "metadata": {
        "colab": {
          "base_uri": "https://localhost:8080/"
        },
        "id": "ydW3FpYpHbfX",
        "outputId": "562acc65-d208-4fe1-a509-0ceb96f5ca37"
      },
      "execution_count": 14,
      "outputs": [
        {
          "output_type": "stream",
          "name": "stdout",
          "text": [
            "Enter an integer: \n",
            "Above ten\n",
            "and also above 20\n",
            "and also above 30\n",
            "and also above 40\n",
            "but not above 50!\n"
          ]
        }
      ]
    },
    {
      "cell_type": "markdown",
      "source": [
        "Application 2\n",
        "\n",
        "Write a program to determine if the grades are:​\n",
        "\n",
        "​\n",
        "\n",
        "\tIf:​\n",
        "\n",
        "\t\t grade > = 75 , “Passed”​\n",
        "\n",
        "\t\tgrade = 74, “Remedial”​\n",
        "\n",
        "\t\tgrade < 74, “Failed”​\n",
        "\n",
        "\t\tnote: if grade is a negative number, it will not accepted​"
      ],
      "metadata": {
        "id": "--3ZPMIyLCbe"
      }
    },
    {
      "cell_type": "code",
      "source": [
        "grade = int(input(\"Enter the grade for this project(Up to 100): \"))\n",
        "\n",
        "if grade >= 75:\n",
        "  if grade > 100:\n",
        "    print(\"\\nYou have entered an invalid number!\")\n",
        "  else:\n",
        "    print(\"\\nYou have passed!\")\n",
        "elif grade == 74:\n",
        "  print(\"\\nYou need to take a remedial.\")\n",
        "else:\n",
        "  if grade < 0:\n",
        "    print(\"\\nYou have entered a negative number, it is not accepted.\")\n",
        "  else:\n",
        "    print(\"\\nYou have failed.\")\n"
      ],
      "metadata": {
        "colab": {
          "base_uri": "https://localhost:8080/"
        },
        "id": "Q0Bdyg70LF__",
        "outputId": "534a5ef0-c2ec-4e35-a232-c8e7ecfd2b39"
      },
      "execution_count": 20,
      "outputs": [
        {
          "output_type": "stream",
          "name": "stdout",
          "text": [
            "Enter the grade for this project(Up to 100): 70\n",
            "\n",
            "You have failed.\n"
          ]
        }
      ]
    }
  ]
}
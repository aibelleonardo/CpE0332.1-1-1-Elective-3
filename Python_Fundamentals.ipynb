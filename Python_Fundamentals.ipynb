{
  "nbformat": 4,
  "nbformat_minor": 0,
  "metadata": {
    "colab": {
      "provenance": [],
      "toc_visible": true,
      "authorship_tag": "ABX9TyPwvqf4X4tiL+ZscEdSItfu",
      "include_colab_link": true
    },
    "kernelspec": {
      "name": "python3",
      "display_name": "Python 3"
    },
    "language_info": {
      "name": "python"
    }
  },
  "cells": [
    {
      "cell_type": "markdown",
      "metadata": {
        "id": "view-in-github",
        "colab_type": "text"
      },
      "source": [
        "<a href=\"https://colab.research.google.com/github/aibelleonardo/CpE0332.1-1-1-Elective-3/blob/main/Python_Fundamentals.ipynb\" target=\"_parent\"><img src=\"https://colab.research.google.com/assets/colab-badge.svg\" alt=\"Open In Colab\"/></a>"
      ]
    },
    {
      "cell_type": "markdown",
      "source": [
        "Python Indentation"
      ],
      "metadata": {
        "id": "DETHZOc1eg1s"
      }
    },
    {
      "cell_type": "code",
      "source": [
        "y = 2\n",
        "x = 5\n",
        "if x > y:\n",
        "  print (\"Five is greater than Two!\")"
      ],
      "metadata": {
        "colab": {
          "base_uri": "https://localhost:8080/"
        },
        "id": "52aDw5HjeiFK",
        "outputId": "9321e6a2-0690-4977-e193-e6a16262bc6f"
      },
      "execution_count": 1,
      "outputs": [
        {
          "output_type": "stream",
          "name": "stdout",
          "text": [
            "Five is greater than Two!\n"
          ]
        }
      ]
    },
    {
      "cell_type": "markdown",
      "source": [
        "Python Comment"
      ],
      "metadata": {
        "id": "hFd47uj4ntzn"
      }
    },
    {
      "cell_type": "code",
      "source": [
        "print(\"Hello World!\")\n",
        "#This is how to comment on python"
      ],
      "metadata": {
        "colab": {
          "base_uri": "https://localhost:8080/"
        },
        "id": "DWFX5xfunv4r",
        "outputId": "f1a47ccb-768b-415b-f026-5102eefbac7c"
      },
      "execution_count": 2,
      "outputs": [
        {
          "output_type": "stream",
          "name": "stdout",
          "text": [
            "Hello World!\n"
          ]
        }
      ]
    },
    {
      "cell_type": "markdown",
      "source": [
        "Python Variable"
      ],
      "metadata": {
        "id": "GgQU-dc-n0w9"
      }
    },
    {
      "cell_type": "code",
      "source": [
        "z = 1\n",
        "x = 2\n",
        "y = 3\n",
        "z, x, y = 1, 2, 3\n",
        "print (z, x, y)\n",
        "print (z + x, y)\n",
        "print (z, x - y)"
      ],
      "metadata": {
        "colab": {
          "base_uri": "https://localhost:8080/"
        },
        "id": "yD2-XXeCn1NA",
        "outputId": "25b3431e-2ac6-480d-c38f-e6836ad5fa26"
      },
      "execution_count": 3,
      "outputs": [
        {
          "output_type": "stream",
          "name": "stdout",
          "text": [
            "1 2 3\n",
            "3 3\n",
            "1 -1\n"
          ]
        }
      ]
    },
    {
      "cell_type": "markdown",
      "source": [
        "Casting"
      ],
      "metadata": {
        "id": "LCEIGjSNn4sD"
      }
    },
    {
      "cell_type": "code",
      "source": [
        "b = \"Leonardo\" #This is a string\n",
        "b = float(4)\n",
        "print (b)"
      ],
      "metadata": {
        "colab": {
          "base_uri": "https://localhost:8080/"
        },
        "id": "supIlpW2n5Rc",
        "outputId": "c90558bf-883f-441b-d9bf-215d5f52765b"
      },
      "execution_count": 14,
      "outputs": [
        {
          "output_type": "stream",
          "name": "stdout",
          "text": [
            "4.0\n"
          ]
        }
      ]
    },
    {
      "cell_type": "markdown",
      "source": [
        "Type () Function"
      ],
      "metadata": {
        "id": "3UrifO-en7Xu"
      }
    },
    {
      "cell_type": "code",
      "source": [
        "print(type(b))"
      ],
      "metadata": {
        "colab": {
          "base_uri": "https://localhost:8080/"
        },
        "id": "I9vMvngnn86h",
        "outputId": "a7bc13cd-4940-4636-af2e-c03cead106bf"
      },
      "execution_count": 5,
      "outputs": [
        {
          "output_type": "stream",
          "name": "stdout",
          "text": [
            "<class 'float'>\n"
          ]
        }
      ]
    },
    {
      "cell_type": "markdown",
      "source": [
        "Double Quote and Single Quote"
      ],
      "metadata": {
        "id": "i0pZ6q12oAhk"
      }
    },
    {
      "cell_type": "code",
      "source": [
        "W = \"Ana\"\n",
        "print (W)\n",
        "Q = 'Ana'\n",
        "print (Q)"
      ],
      "metadata": {
        "colab": {
          "base_uri": "https://localhost:8080/"
        },
        "id": "wEGxG6xDoC-7",
        "outputId": "9c2de3a9-4dd2-461b-cc11-ceebc94aa39c"
      },
      "execution_count": 6,
      "outputs": [
        {
          "output_type": "stream",
          "name": "stdout",
          "text": [
            "Ana\n",
            "Ana\n"
          ]
        }
      ]
    },
    {
      "cell_type": "markdown",
      "source": [
        "Case Sensitive"
      ],
      "metadata": {
        "id": "KPjbY7u1oHpp"
      }
    },
    {
      "cell_type": "code",
      "source": [
        "A = \"Sally\"\n",
        "a = 4\n",
        "print (A, a)\n",
        "print (A + str(4))"
      ],
      "metadata": {
        "colab": {
          "base_uri": "https://localhost:8080/"
        },
        "id": "I3mYqg1CoIH1",
        "outputId": "56ee9711-a123-4247-fccf-1f87dbd463b0"
      },
      "execution_count": 7,
      "outputs": [
        {
          "output_type": "stream",
          "name": "stdout",
          "text": [
            "Sally 4\n",
            "Sally4\n"
          ]
        }
      ]
    },
    {
      "cell_type": "markdown",
      "source": [
        "Multiple Variables"
      ],
      "metadata": {
        "id": "OAsb_vHaoKjG"
      }
    },
    {
      "cell_type": "code",
      "source": [
        "h, i, j = 'one', 'two', 'three'\n",
        "print(h)\n",
        "print(i)\n",
        "print(j)"
      ],
      "metadata": {
        "colab": {
          "base_uri": "https://localhost:8080/"
        },
        "id": "kOPa1pMroLZM",
        "outputId": "f09def2a-7f3e-420b-d659-38f1941e66c1"
      },
      "execution_count": 8,
      "outputs": [
        {
          "output_type": "stream",
          "name": "stdout",
          "text": [
            "one\n",
            "two\n",
            "three\n"
          ]
        }
      ]
    },
    {
      "cell_type": "markdown",
      "source": [
        "Multiple Variables with Single Value"
      ],
      "metadata": {
        "id": "N2Wq7TFLod1y"
      }
    },
    {
      "cell_type": "code",
      "source": [
        "k = l = m = \"four\"\n",
        "print(k)\n",
        "print(l)\n",
        "print(m)"
      ],
      "metadata": {
        "colab": {
          "base_uri": "https://localhost:8080/"
        },
        "id": "2ChMuT0LoiOl",
        "outputId": "ac3d9f7c-e589-471a-a2c0-f6540f4d46c0"
      },
      "execution_count": 9,
      "outputs": [
        {
          "output_type": "stream",
          "name": "stdout",
          "text": [
            "four\n",
            "four\n",
            "four\n"
          ]
        }
      ]
    },
    {
      "cell_type": "markdown",
      "source": [
        "Output Variable and Concatenation +"
      ],
      "metadata": {
        "id": "TgXDEf8Ro8Nk"
      }
    },
    {
      "cell_type": "code",
      "source": [
        "n = \"enjoying\"\n",
        "p = \"Python programming is \"\n",
        "\n",
        "print(p + n)"
      ],
      "metadata": {
        "colab": {
          "base_uri": "https://localhost:8080/"
        },
        "id": "pwFjmcmQpDNA",
        "outputId": "c6ef0ed0-3632-4c13-8581-bb9bfe7366c3"
      },
      "execution_count": 12,
      "outputs": [
        {
          "output_type": "stream",
          "name": "stdout",
          "text": [
            "Python programming is enjoying\n"
          ]
        }
      ]
    },
    {
      "cell_type": "markdown",
      "source": [
        "Arithmetic Operations"
      ],
      "metadata": {
        "id": "ZD2LMYITvhEn"
      }
    },
    {
      "cell_type": "code",
      "source": [
        "print(x + y) #Addition\n",
        "print(x - y) #Subtraction\n",
        "print(x * y) #Multiplication\n",
        "print(round(5 / 3), 2) #Division\n",
        "print(x // y) #Floor Division\n",
        "print(x % y) #Modulo\n",
        "print(x ** y) #Exponentation"
      ],
      "metadata": {
        "colab": {
          "base_uri": "https://localhost:8080/"
        },
        "id": "m55GWcF0vjjl",
        "outputId": "3329595d-91cc-4e50-f8a9-ae85e4133713"
      },
      "execution_count": 15,
      "outputs": [
        {
          "output_type": "stream",
          "name": "stdout",
          "text": [
            "5\n",
            "-1\n",
            "6\n",
            "2 2\n",
            "0\n",
            "2\n",
            "8\n"
          ]
        }
      ]
    },
    {
      "cell_type": "markdown",
      "source": [
        "Assignment Operator"
      ],
      "metadata": {
        "id": "q4aWYcZiwuu3"
      }
    },
    {
      "cell_type": "code",
      "source": [
        "x += 3 #same as x = x + 3\n",
        "\n",
        "print(x)"
      ],
      "metadata": {
        "colab": {
          "base_uri": "https://localhost:8080/"
        },
        "id": "dYLaQQ0Kwwly",
        "outputId": "16d04f0b-6fef-4c46-896e-195f48f874c2"
      },
      "execution_count": 16,
      "outputs": [
        {
          "output_type": "stream",
          "name": "stdout",
          "text": [
            "5\n"
          ]
        }
      ]
    },
    {
      "cell_type": "markdown",
      "source": [
        "Comparison Operator"
      ],
      "metadata": {
        "id": "iHTlvvFJxCgd"
      }
    },
    {
      "cell_type": "code",
      "source": [
        "print(x == y) #x = 3, y = 2\n",
        "print(x != y)\n",
        "print(x > y)\n",
        "print(x < y)"
      ],
      "metadata": {
        "colab": {
          "base_uri": "https://localhost:8080/"
        },
        "id": "U3gGfFw-xEs-",
        "outputId": "60274f62-d328-4de4-f4f9-0a21c767fa30"
      },
      "execution_count": 20,
      "outputs": [
        {
          "output_type": "stream",
          "name": "stdout",
          "text": [
            "False\n",
            "True\n",
            "True\n",
            "False\n"
          ]
        }
      ]
    },
    {
      "cell_type": "markdown",
      "source": [
        "Logical Operator"
      ],
      "metadata": {
        "id": "5-9lvI-Hxw15"
      }
    },
    {
      "cell_type": "code",
      "source": [
        "print(x == y and x != y) #False and True\n",
        "print(x == y or x != y) #False or True\n",
        "print(not(x == y or x != y)) #negate (False or True)"
      ],
      "metadata": {
        "colab": {
          "base_uri": "https://localhost:8080/"
        },
        "id": "I5thUOU4xyme",
        "outputId": "f2fc0089-f6df-458c-da58-9cd7d897f6e0"
      },
      "execution_count": 22,
      "outputs": [
        {
          "output_type": "stream",
          "name": "stdout",
          "text": [
            "False\n",
            "True\n",
            "False\n"
          ]
        }
      ]
    },
    {
      "cell_type": "markdown",
      "source": [
        "Identity Operators"
      ],
      "metadata": {
        "id": "iL9SKUaCy3ex"
      }
    },
    {
      "cell_type": "code",
      "source": [
        "x is y #x = 3, y = 2\n",
        "x is not y\n"
      ],
      "metadata": {
        "colab": {
          "base_uri": "https://localhost:8080/"
        },
        "id": "dPRChkpBy5XV",
        "outputId": "e705086c-0217-4936-e126-30fcfec10374"
      },
      "execution_count": 23,
      "outputs": [
        {
          "output_type": "execute_result",
          "data": {
            "text/plain": [
              "True"
            ]
          },
          "metadata": {},
          "execution_count": 23
        }
      ]
    },
    {
      "cell_type": "markdown",
      "source": [
        "Bitwise Operators"
      ],
      "metadata": {
        "id": "GNzQFSKizHp2"
      }
    },
    {
      "cell_type": "code",
      "source": [
        "#10 + 1 = 11    ; 1010 + 0001 = 1011\n",
        "print(10 | 1)\n",
        "\n",
        "print(x >> 1) #x - 3, 011"
      ],
      "metadata": {
        "colab": {
          "base_uri": "https://localhost:8080/"
        },
        "id": "4xfnGsMRzgTr",
        "outputId": "2429d660-ce25-4400-b788-191eb0afc343"
      },
      "execution_count": 26,
      "outputs": [
        {
          "output_type": "stream",
          "name": "stdout",
          "text": [
            "11\n",
            "2\n"
          ]
        }
      ]
    },
    {
      "cell_type": "markdown",
      "source": [
        "Application 1"
      ],
      "metadata": {
        "id": "08rgN6MW04a6"
      }
    },
    {
      "cell_type": "code",
      "source": [
        "#Create a Python program that displays your Fullname, Age, Course and Section\n",
        "\n",
        "age = 21\n",
        "course = \"Computer Engineering\"\n",
        "section = \"CpE0322.1-1\"\n",
        "print(\"I am Aibel Renzo Tiongson Leonardo. I am\", age, \"years old.\")\n",
        "print(\"I am in\", course, \"under the section of\", section)"
      ],
      "metadata": {
        "colab": {
          "base_uri": "https://localhost:8080/"
        },
        "id": "qeQf1FMP1Ef_",
        "outputId": "1fb6cb60-877a-47a9-8dfd-9c8570e92029"
      },
      "execution_count": 29,
      "outputs": [
        {
          "output_type": "stream",
          "name": "stdout",
          "text": [
            "I am Aibel Renzo Tiongson Leonardo. I am 21 years old.\n",
            "I am in Computer Engineering under the section of CpE0322-1\n"
          ]
        }
      ]
    }
  ]
}